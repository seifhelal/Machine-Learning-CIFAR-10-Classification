{
 "cells": [
  {
   "cell_type": "code",
   "execution_count": 1,
   "metadata": {},
   "outputs": [],
   "source": [
    "import random\n",
    "import numpy as np\n",
    "from data_utils import load_CIFAR10\n",
    "import matplotlib.pyplot as plt\n",
    "from sklearn.utils import shuffle\n",
    "import tqdm\n",
    "from numpy.linalg import inv\n"
   ]
  },
  {
   "cell_type": "code",
   "execution_count": 2,
   "metadata": {},
   "outputs": [],
   "source": [
    "# Load the raw CIFAR-10 data.\n",
    "cifar10_dir = 'cifar-10-batches-py'\n",
    "X_train, Y_train, X_test, Y_test = load_CIFAR10(cifar10_dir)"
   ]
  },
  {
   "cell_type": "code",
   "execution_count": 3,
   "metadata": {},
   "outputs": [
    {
     "name": "stdout",
     "output_type": "stream",
     "text": [
      "Training data shape:  (50000, 32, 32, 3)\n",
      "Training labels shape:  (50000,)\n",
      "Test data shape:  (10000, 32, 32, 3)\n",
      "Test labels shape:  (10000,)\n"
     ]
    }
   ],
   "source": [
    "# As a sanity check, we print out the size of the training and test data.\n",
    "print ('Training data shape: ', X_train.shape)\n",
    "print ('Training labels shape: ', Y_train.shape)\n",
    "print ('Test data shape: ', X_test.shape)\n",
    "print ('Test labels shape: ', Y_test.shape)"
   ]
  },
  {
   "cell_type": "code",
   "execution_count": 4,
   "metadata": {},
   "outputs": [
    {
     "name": "stdout",
     "output_type": "stream",
     "text": [
      "(50000, 3073) (3073, 50000) (50000, 3073)\n"
     ]
    }
   ],
   "source": [
    "# Reshape the image data into rows\n",
    "X_train = np.reshape(X_train, (X_train.shape[0], -1))\n",
    "X_test = np.reshape(X_test, (X_test.shape[0], -1))\n",
    "X_train_1s= np.c_[X_train, np.ones(X_train.shape[0])] # training data with added column of 1s \n",
    "X_test_1s= np.c_[X_test, np.ones(X_test.shape[0])] # testing data with added column of 1s \n",
    "X_train_1s_t=np.transpose(X_train_1s) # trainind data transposed \n",
    "print (X_train_1s.shape, X_train_1s_t.shape, X_train_1s.shape)"
   ]
  },
  {
   "cell_type": "code",
   "execution_count": 5,
   "metadata": {},
   "outputs": [
    {
     "name": "stdout",
     "output_type": "stream",
     "text": [
      "(3073, 10)\n"
     ]
    }
   ],
   "source": [
    "Y_train_onehot = np.eye(10)[Y_train]\n",
    "#calculating the weights used be LLS \n",
    "w=np.dot(np.dot(np.linalg.inv(np.dot(X_train_1s_t, X_train_1s)), X_train_1s_t),Y_train_onehot) \n",
    "#testing print \n",
    "print (w.shape)"
   ]
  },
  {
   "cell_type": "code",
   "execution_count": 12,
   "metadata": {},
   "outputs": [
    {
     "name": "stdout",
     "output_type": "stream",
     "text": [
      "6\n"
     ]
    }
   ],
   "source": [
    "#calculating the right label for each tasted point of the testing set\n",
    "Y_pred_test =np.argmax(np.dot(X_test_1s, w), axis=1)\n",
    "#calculating the right label for each tasted point of the training set\n",
    "Y_pred_train =np.argmax(np.dot(X_train_1s, w), axis=1)\n",
    "#testing print \n",
    "print (Y_pred_train[0])\n"
   ]
  },
  {
   "cell_type": "code",
   "execution_count": 14,
   "metadata": {},
   "outputs": [
    {
     "name": "stdout",
     "output_type": "stream",
     "text": [
      "ACCR of the testing is: 0.363700\n",
      "ACCR of the training is: 0.509440\n",
      " Testing CCRn of plane is:  0.469000\n",
      " Testing CCRn of car is:  0.445000\n",
      " Testing CCRn of bird is:  0.207000\n",
      " Testing CCRn of cat is:  0.177000\n",
      " Testing CCRn of deer is:  0.243000\n",
      " Testing CCRn of dog is:  0.285000\n",
      " Testing CCRn of frog is:  0.449000\n",
      " Testing CCRn of horse is:  0.426000\n",
      " Testing CCRn of ship is:  0.508000\n",
      " Testing CCRn of truck is:  0.428000\n"
     ]
    }
   ],
   "source": [
    "classes = ['plane', 'car', 'bird', 'cat', 'deer', 'dog', 'frog', 'horse', 'ship', 'truck']\\\n",
    "#calculating the number of correctly predicted testing points \n",
    "right_prediction_sum= np.sum(Y_pred_test == Y_test)\n",
    "#calculating the number of correctly predicted training points \n",
    "right_prediction_sum_train= np.sum(Y_pred_train == Y_train)\n",
    "#calculating the accurracy of the predicted testing points\n",
    "accuracy= float(right_prediction_sum) / 10000\n",
    "#calculating the accurracy of the predicted training points\n",
    "accuracy_train= float(right_prediction_sum_train) / 50000\n",
    "print (\"ACCR of the testing is: %f\" %accuracy)\n",
    "print (\"ACCR of the training is: %f\" %accuracy_train)\n",
    "\n",
    "CCRn = np.zeros(10)\n",
    "for i in range(10):\n",
    "        numCorrect = np.sum(Y_pred_test[x] == Y_test[x] and Y_pred_test[x] == i for x in range(X_test.shape[0]))\n",
    "        CCRn[i] = float(numCorrect) / 1000\n",
    "        print (' Testing CCRn of %s is:  %f' % (classes[i], CCRn[i]))"
   ]
  },
  {
   "cell_type": "code",
   "execution_count": null,
   "metadata": {},
   "outputs": [],
   "source": []
  }
 ],
 "metadata": {
  "kernelspec": {
   "display_name": "Python 3",
   "language": "python",
   "name": "python3"
  },
  "language_info": {
   "codemirror_mode": {
    "name": "ipython",
    "version": 3
   },
   "file_extension": ".py",
   "mimetype": "text/x-python",
   "name": "python",
   "nbconvert_exporter": "python",
   "pygments_lexer": "ipython3",
   "version": "3.6.4"
  }
 },
 "nbformat": 4,
 "nbformat_minor": 2
}
